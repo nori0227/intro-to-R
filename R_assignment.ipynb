{
  "nbformat": 4,
  "nbformat_minor": 0,
  "metadata": {
    "colab": {
      "provenance": [],
      "include_colab_link": true
    },
    "kernelspec": {
      "name": "ir",
      "display_name": "R"
    }
  },
  "cells": [
    {
      "cell_type": "markdown",
      "metadata": {
        "id": "view-in-github",
        "colab_type": "text"
      },
      "source": [
        "<a href=\"https://colab.research.google.com/github/nori0227/intro-to-R/blob/main/R_assignment.ipynb\" target=\"_parent\"><img src=\"https://colab.research.google.com/assets/colab-badge.svg\" alt=\"Open In Colab\"/></a>"
      ]
    },
    {
      "cell_type": "code",
      "metadata": {
        "id": "rCEtur7fajGn",
        "colab": {
          "base_uri": "https://localhost:8080/"
        },
        "outputId": "5064a654-e1b5-4b97-8eaa-541020d288e9"
      },
      "source": [
        "cat(system('python3 -c \"from google.colab import drive\\ndrive.mount()\"', intern=TRUE), sep='\\n', wait=TRUE)"
      ],
      "execution_count": 30,
      "outputs": [
        {
          "output_type": "stream",
          "name": "stderr",
          "text": [
            "Warning message in system(\"python3 -c \\\"from google.colab import drive\\ndrive.mount()\\\"\", :\n",
            "“running command 'python3 -c \"from google.colab import drive\n",
            "drive.mount()\"' had status 1”\n"
          ]
        },
        {
          "output_type": "stream",
          "name": "stdout",
          "text": [
            "\n",
            "TRUE\n"
          ]
        }
      ]
    },
    {
      "cell_type": "code",
      "metadata": {
        "id": "T6aH0TahbghZ"
      },
      "source": [
        "?system"
      ],
      "execution_count": 31,
      "outputs": []
    },
    {
      "cell_type": "code",
      "metadata": {
        "id": "3o11KxDzyC0g",
        "outputId": "c6a598f7-0b30-410b-df9e-86d18b85652c",
        "colab": {
          "base_uri": "https://localhost:8080/"
        }
      },
      "source": [
        "install.packages(\"rgl\", repos = \"http://cran.rstudio.com/\")\n",
        "install.packages(\"ConsRank\", repos = \"http://cran.rstudio.com/\")\n",
        "library(\"ConsRank\")"
      ],
      "execution_count": 32,
      "outputs": [
        {
          "output_type": "stream",
          "name": "stderr",
          "text": [
            "Installing package into ‘/usr/local/lib/R/site-library’\n",
            "(as ‘lib’ is unspecified)\n",
            "\n",
            "Installing package into ‘/usr/local/lib/R/site-library’\n",
            "(as ‘lib’ is unspecified)\n",
            "\n"
          ]
        }
      ]
    },
    {
      "cell_type": "code",
      "metadata": {
        "id": "SPYGePw53fWq"
      },
      "source": [
        "system(\"add-apt-repository -y ppa:marutter/rrutter\")\n",
        "system(\"add-apt-repository -y ppa:marutter/c2d4u\")\n",
        "system(\"apt-get update\")\n",
        "system(\"apt install -y r-cran-rstan\")"
      ],
      "execution_count": 33,
      "outputs": []
    },
    {
      "cell_type": "code",
      "source": [
        "x <- 12"
      ],
      "metadata": {
        "id": "pAapi4M0pptx"
      },
      "execution_count": 34,
      "outputs": []
    },
    {
      "cell_type": "code",
      "source": [
        "# create vector of integers from 0 to 9\n",
        "some_numbers <- c(0,1,2,3,4,5,6,7,8,9)\n",
        "\n",
        "# alternatively \n",
        "some_numbers <- c(0:9)\n",
        "\n",
        "some_numbers"
      ],
      "metadata": {
        "id": "TkAg-FnwptL4",
        "outputId": "bec80beb-ab5b-422c-8817-1920575928dc",
        "colab": {
          "base_uri": "https://localhost:8080/",
          "height": 34
        }
      },
      "execution_count": 35,
      "outputs": [
        {
          "output_type": "display_data",
          "data": {
            "text/html": [
              "<style>\n",
              ".list-inline {list-style: none; margin:0; padding: 0}\n",
              ".list-inline>li {display: inline-block}\n",
              ".list-inline>li:not(:last-child)::after {content: \"\\00b7\"; padding: 0 .5ex}\n",
              "</style>\n",
              "<ol class=list-inline><li>0</li><li>1</li><li>2</li><li>3</li><li>4</li><li>5</li><li>6</li><li>7</li><li>8</li><li>9</li></ol>\n"
            ],
            "text/markdown": "1. 0\n2. 1\n3. 2\n4. 3\n5. 4\n6. 5\n7. 6\n8. 7\n9. 8\n10. 9\n\n\n",
            "text/latex": "\\begin{enumerate*}\n\\item 0\n\\item 1\n\\item 2\n\\item 3\n\\item 4\n\\item 5\n\\item 6\n\\item 7\n\\item 8\n\\item 9\n\\end{enumerate*}\n",
            "text/plain": [
              " [1] 0 1 2 3 4 5 6 7 8 9"
            ]
          },
          "metadata": {}
        }
      ]
    },
    {
      "cell_type": "code",
      "source": [
        "mean(some_numbers)"
      ],
      "metadata": {
        "id": "3Bvg8cs-qEyu",
        "outputId": "17e0d092-daa0-4fde-90fb-06cda7a9f477",
        "colab": {
          "base_uri": "https://localhost:8080/",
          "height": 34
        }
      },
      "execution_count": 36,
      "outputs": [
        {
          "output_type": "display_data",
          "data": {
            "text/html": [
              "4.5"
            ],
            "text/markdown": "4.5",
            "text/latex": "4.5",
            "text/plain": [
              "[1] 4.5"
            ]
          },
          "metadata": {}
        }
      ]
    },
    {
      "cell_type": "code",
      "source": [
        "install.packages('tidyverse')"
      ],
      "metadata": {
        "id": "rUVWsEfYqKuH",
        "outputId": "f1517e37-4fe8-4456-f123-bc382882e932",
        "colab": {
          "base_uri": "https://localhost:8080/"
        }
      },
      "execution_count": 37,
      "outputs": [
        {
          "output_type": "stream",
          "name": "stderr",
          "text": [
            "Installing package into ‘/usr/local/lib/R/site-library’\n",
            "(as ‘lib’ is unspecified)\n",
            "\n"
          ]
        }
      ]
    },
    {
      "cell_type": "code",
      "source": [
        "library(tidyverse)"
      ],
      "metadata": {
        "id": "nRN2U_zXqNgR"
      },
      "execution_count": 38,
      "outputs": []
    },
    {
      "cell_type": "code",
      "source": [
        "paygap <- read.csv('/content/2019_2020.csv', header = TRUE)\n"
      ],
      "metadata": {
        "id": "Mta3mIl8qPmF"
      },
      "execution_count": 39,
      "outputs": []
    },
    {
      "cell_type": "code",
      "source": [
        "head(paygap, n = 5)"
      ],
      "metadata": {
        "id": "uzUtr8UJu07n",
        "outputId": "134ad158-b18b-4217-f7ef-a24a392427ec",
        "colab": {
          "base_uri": "https://localhost:8080/",
          "height": 673
        }
      },
      "execution_count": 40,
      "outputs": [
        {
          "output_type": "display_data",
          "data": {
            "text/html": [
              "<table class=\"dataframe\">\n",
              "<caption>A data.frame: 5 × 27</caption>\n",
              "<thead>\n",
              "\t<tr><th></th><th scope=col>EmployerName</th><th scope=col>EmployerId</th><th scope=col>Address</th><th scope=col>PostCode</th><th scope=col>CompanyNumber</th><th scope=col>SicCodes</th><th scope=col>DiffMeanHourlyPercent</th><th scope=col>DiffMedianHourlyPercent</th><th scope=col>DiffMeanBonusPercent</th><th scope=col>DiffMedianBonusPercent</th><th scope=col>⋯</th><th scope=col>FemaleUpperMiddleQuartile</th><th scope=col>MaleTopQuartile</th><th scope=col>FemaleTopQuartile</th><th scope=col>CompanyLinkToGPGInfo</th><th scope=col>ResponsiblePerson</th><th scope=col>EmployerSize</th><th scope=col>CurrentName</th><th scope=col>SubmittedAfterTheDeadline</th><th scope=col>DueDate</th><th scope=col>DateSubmitted</th></tr>\n",
              "\t<tr><th></th><th scope=col>&lt;chr&gt;</th><th scope=col>&lt;int&gt;</th><th scope=col>&lt;chr&gt;</th><th scope=col>&lt;chr&gt;</th><th scope=col>&lt;chr&gt;</th><th scope=col>&lt;chr&gt;</th><th scope=col>&lt;dbl&gt;</th><th scope=col>&lt;dbl&gt;</th><th scope=col>&lt;dbl&gt;</th><th scope=col>&lt;dbl&gt;</th><th scope=col>⋯</th><th scope=col>&lt;dbl&gt;</th><th scope=col>&lt;dbl&gt;</th><th scope=col>&lt;dbl&gt;</th><th scope=col>&lt;chr&gt;</th><th scope=col>&lt;chr&gt;</th><th scope=col>&lt;chr&gt;</th><th scope=col>&lt;chr&gt;</th><th scope=col>&lt;chr&gt;</th><th scope=col>&lt;chr&gt;</th><th scope=col>&lt;chr&gt;</th></tr>\n",
              "</thead>\n",
              "<tbody>\n",
              "\t<tr><th scope=row>1</th><td>'PRIFYSGOL ABERYSTWYTH' AND 'ABERYSTWYTH UNIVERSITY'</td><td>19070</td><td>Aberystwyth University, Penglais, Ceredigion, SY23 3FL                            </td><td>SY23 3FL</td><td>RC000641</td><td>                     </td><td>11.5</td><td>10.3</td><td>    NA</td><td>    NA</td><td>⋯</td><td>60.0</td><td>62.0</td><td>38.0</td><td>https://www.aber.ac.uk/en/equality/genderpaygapreporting2019/ \n",
              "\n",
              "https://www.aber.ac.uk/cy/equality/gender-pay-gap/</td><td>Elizabeth Treasure (Vice-Chancellor)          </td><td>1000 to 4999</td><td>'PRIFYSGOL ABERYSTWYTH' AND 'ABERYSTWYTH UNIVERSITY'</td><td>False</td><td>2020/04/05 00:00:00</td><td>2020/04/03 14:47:45</td></tr>\n",
              "\t<tr><th scope=row>2</th><td>10 TRINITY SQUARE HOTEL LIMITED                     </td><td>19455</td><td>5 Market Yard Mews, 194-204 Bermondsey Street, London, United Kingdom, SE1 3TQ    </td><td>SE1 3TQ </td><td>08064685</td><td>82990                </td><td> 8.7</td><td>10.3</td><td>  29.6</td><td>  54.5</td><td>⋯</td><td>21.1</td><td>66.7</td><td>33.3</td><td>                                                                                                                    </td><td>Linda Stigter (Director of People and Culture)</td><td>250 to 499  </td><td>10 TRINITY SQUARE HOTEL LIMITED                     </td><td>False</td><td>2020/04/05 00:00:00</td><td>2020/03/19 15:51:20</td></tr>\n",
              "\t<tr><th scope=row>3</th><td>1LIFE MANAGEMENT SOLUTIONS LIMITED                  </td><td>  687</td><td>Ldh House St Ives Business Park, Parsons Green, St. Ives, Cambridgeshire, PE27 4AA</td><td>PE27 4AA</td><td>02566586</td><td>93110,\n",
              "93130,\n",
              "93290</td><td>11.0</td><td>-0.5</td><td>  81.5</td><td>  94.2</td><td>⋯</td><td>57.7</td><td>44.2</td><td>55.8</td><td>https://www.1life.co.uk/gender-pay-gap                                                                              </td><td>Mark Braithwaite (Managing Director)          </td><td>250 to 499  </td><td>1LIFE MANAGEMENT SOLUTIONS LIMITED                  </td><td>False</td><td>2020/04/05 00:00:00</td><td>2020/03/10 17:03:17</td></tr>\n",
              "\t<tr><th scope=row>4</th><td>1ST CHOICE STAFF RECRUITMENT LIMITED                </td><td>18136</td><td>1ST CHOICE RECRUITMENT, 8 St. Loyes Street, Bedford, MK40 1EP                     </td><td>MK40 1EP</td><td>07972006</td><td>78109                </td><td>-2.3</td><td> 0.0</td><td>-114.8</td><td>-249.3</td><td>⋯</td><td>37.1</td><td>50.0</td><td>50.0</td><td>https://www.1stchoice.net/gender-pay-gap-report-2019/                                                               </td><td>Gill Knight (MD)                              </td><td>250 to 499  </td><td>1ST CHOICE STAFF RECRUITMENT LIMITED                </td><td>False</td><td>2020/04/05 00:00:00</td><td>2020/01/24 09:37:01</td></tr>\n",
              "\t<tr><th scope=row>5</th><td>1ST HOME CARE LTD.                                  </td><td>17484</td><td>Real Life Options, 35 East Port, Dunfermline, Fife, Scotland, KY12 7LG            </td><td>KY12 7LG</td><td>SC272838</td><td>86900,\n",
              "88100        </td><td>-2.0</td><td> 0.5</td><td>    NA</td><td>    NA</td><td>⋯</td><td>91.0</td><td> 9.0</td><td>91.0</td><td>https://reallifeoptions.org/                                                                                        </td><td>Ian Hardcastle (Chief Operating Officer)      </td><td>250 to 499  </td><td>1ST HOME CARE LTD.                                  </td><td>False</td><td>2020/04/05 00:00:00</td><td>2020/03/12 08:21:06</td></tr>\n",
              "</tbody>\n",
              "</table>\n"
            ],
            "text/markdown": "\nA data.frame: 5 × 27\n\n| <!--/--> | EmployerName &lt;chr&gt; | EmployerId &lt;int&gt; | Address &lt;chr&gt; | PostCode &lt;chr&gt; | CompanyNumber &lt;chr&gt; | SicCodes &lt;chr&gt; | DiffMeanHourlyPercent &lt;dbl&gt; | DiffMedianHourlyPercent &lt;dbl&gt; | DiffMeanBonusPercent &lt;dbl&gt; | DiffMedianBonusPercent &lt;dbl&gt; | ⋯ ⋯ | FemaleUpperMiddleQuartile &lt;dbl&gt; | MaleTopQuartile &lt;dbl&gt; | FemaleTopQuartile &lt;dbl&gt; | CompanyLinkToGPGInfo &lt;chr&gt; | ResponsiblePerson &lt;chr&gt; | EmployerSize &lt;chr&gt; | CurrentName &lt;chr&gt; | SubmittedAfterTheDeadline &lt;chr&gt; | DueDate &lt;chr&gt; | DateSubmitted &lt;chr&gt; |\n|---|---|---|---|---|---|---|---|---|---|---|---|---|---|---|---|---|---|---|---|---|---|\n| 1 | 'PRIFYSGOL ABERYSTWYTH' AND 'ABERYSTWYTH UNIVERSITY' | 19070 | Aberystwyth University, Penglais, Ceredigion, SY23 3FL                             | SY23 3FL | RC000641 | <!----> | 11.5 | 10.3 |     NA |     NA | ⋯ | 60.0 | 62.0 | 38.0 | https://www.aber.ac.uk/en/equality/genderpaygapreporting2019/ \n\nhttps://www.aber.ac.uk/cy/equality/gender-pay-gap/ | Elizabeth Treasure (Vice-Chancellor)           | 1000 to 4999 | 'PRIFYSGOL ABERYSTWYTH' AND 'ABERYSTWYTH UNIVERSITY' | False | 2020/04/05 00:00:00 | 2020/04/03 14:47:45 |\n| 2 | 10 TRINITY SQUARE HOTEL LIMITED                      | 19455 | 5 Market Yard Mews, 194-204 Bermondsey Street, London, United Kingdom, SE1 3TQ     | SE1 3TQ  | 08064685 | 82990                 |  8.7 | 10.3 |   29.6 |   54.5 | ⋯ | 21.1 | 66.7 | 33.3 | <!----> | Linda Stigter (Director of People and Culture) | 250 to 499   | 10 TRINITY SQUARE HOTEL LIMITED                      | False | 2020/04/05 00:00:00 | 2020/03/19 15:51:20 |\n| 3 | 1LIFE MANAGEMENT SOLUTIONS LIMITED                   |   687 | Ldh House St Ives Business Park, Parsons Green, St. Ives, Cambridgeshire, PE27 4AA | PE27 4AA | 02566586 | 93110,\n93130,\n93290 | 11.0 | -0.5 |   81.5 |   94.2 | ⋯ | 57.7 | 44.2 | 55.8 | https://www.1life.co.uk/gender-pay-gap                                                                               | Mark Braithwaite (Managing Director)           | 250 to 499   | 1LIFE MANAGEMENT SOLUTIONS LIMITED                   | False | 2020/04/05 00:00:00 | 2020/03/10 17:03:17 |\n| 4 | 1ST CHOICE STAFF RECRUITMENT LIMITED                 | 18136 | 1ST CHOICE RECRUITMENT, 8 St. Loyes Street, Bedford, MK40 1EP                      | MK40 1EP | 07972006 | 78109                 | -2.3 |  0.0 | -114.8 | -249.3 | ⋯ | 37.1 | 50.0 | 50.0 | https://www.1stchoice.net/gender-pay-gap-report-2019/                                                                | Gill Knight (MD)                               | 250 to 499   | 1ST CHOICE STAFF RECRUITMENT LIMITED                 | False | 2020/04/05 00:00:00 | 2020/01/24 09:37:01 |\n| 5 | 1ST HOME CARE LTD.                                   | 17484 | Real Life Options, 35 East Port, Dunfermline, Fife, Scotland, KY12 7LG             | KY12 7LG | SC272838 | 86900,\n88100         | -2.0 |  0.5 |     NA |     NA | ⋯ | 91.0 |  9.0 | 91.0 | https://reallifeoptions.org/                                                                                         | Ian Hardcastle (Chief Operating Officer)       | 250 to 499   | 1ST HOME CARE LTD.                                   | False | 2020/04/05 00:00:00 | 2020/03/12 08:21:06 |\n\n",
            "text/latex": "A data.frame: 5 × 27\n\\begin{tabular}{r|lllllllllllllllllllll}\n  & EmployerName & EmployerId & Address & PostCode & CompanyNumber & SicCodes & DiffMeanHourlyPercent & DiffMedianHourlyPercent & DiffMeanBonusPercent & DiffMedianBonusPercent & ⋯ & FemaleUpperMiddleQuartile & MaleTopQuartile & FemaleTopQuartile & CompanyLinkToGPGInfo & ResponsiblePerson & EmployerSize & CurrentName & SubmittedAfterTheDeadline & DueDate & DateSubmitted\\\\\n  & <chr> & <int> & <chr> & <chr> & <chr> & <chr> & <dbl> & <dbl> & <dbl> & <dbl> & ⋯ & <dbl> & <dbl> & <dbl> & <chr> & <chr> & <chr> & <chr> & <chr> & <chr> & <chr>\\\\\n\\hline\n\t1 & 'PRIFYSGOL ABERYSTWYTH' AND 'ABERYSTWYTH UNIVERSITY' & 19070 & Aberystwyth University, Penglais, Ceredigion, SY23 3FL                             & SY23 3FL & RC000641 &                       & 11.5 & 10.3 &     NA &     NA & ⋯ & 60.0 & 62.0 & 38.0 & https://www.aber.ac.uk/en/equality/genderpaygapreporting2019/ \n\nhttps://www.aber.ac.uk/cy/equality/gender-pay-gap/ & Elizabeth Treasure (Vice-Chancellor)           & 1000 to 4999 & 'PRIFYSGOL ABERYSTWYTH' AND 'ABERYSTWYTH UNIVERSITY' & False & 2020/04/05 00:00:00 & 2020/04/03 14:47:45\\\\\n\t2 & 10 TRINITY SQUARE HOTEL LIMITED                      & 19455 & 5 Market Yard Mews, 194-204 Bermondsey Street, London, United Kingdom, SE1 3TQ     & SE1 3TQ  & 08064685 & 82990                 &  8.7 & 10.3 &   29.6 &   54.5 & ⋯ & 21.1 & 66.7 & 33.3 &                                                                                                                      & Linda Stigter (Director of People and Culture) & 250 to 499   & 10 TRINITY SQUARE HOTEL LIMITED                      & False & 2020/04/05 00:00:00 & 2020/03/19 15:51:20\\\\\n\t3 & 1LIFE MANAGEMENT SOLUTIONS LIMITED                   &   687 & Ldh House St Ives Business Park, Parsons Green, St. Ives, Cambridgeshire, PE27 4AA & PE27 4AA & 02566586 & 93110,\n93130,\n93290 & 11.0 & -0.5 &   81.5 &   94.2 & ⋯ & 57.7 & 44.2 & 55.8 & https://www.1life.co.uk/gender-pay-gap                                                                               & Mark Braithwaite (Managing Director)           & 250 to 499   & 1LIFE MANAGEMENT SOLUTIONS LIMITED                   & False & 2020/04/05 00:00:00 & 2020/03/10 17:03:17\\\\\n\t4 & 1ST CHOICE STAFF RECRUITMENT LIMITED                 & 18136 & 1ST CHOICE RECRUITMENT, 8 St. Loyes Street, Bedford, MK40 1EP                      & MK40 1EP & 07972006 & 78109                 & -2.3 &  0.0 & -114.8 & -249.3 & ⋯ & 37.1 & 50.0 & 50.0 & https://www.1stchoice.net/gender-pay-gap-report-2019/                                                                & Gill Knight (MD)                               & 250 to 499   & 1ST CHOICE STAFF RECRUITMENT LIMITED                 & False & 2020/04/05 00:00:00 & 2020/01/24 09:37:01\\\\\n\t5 & 1ST HOME CARE LTD.                                   & 17484 & Real Life Options, 35 East Port, Dunfermline, Fife, Scotland, KY12 7LG             & KY12 7LG & SC272838 & 86900,\n88100         & -2.0 &  0.5 &     NA &     NA & ⋯ & 91.0 &  9.0 & 91.0 & https://reallifeoptions.org/                                                                                         & Ian Hardcastle (Chief Operating Officer)       & 250 to 499   & 1ST HOME CARE LTD.                                   & False & 2020/04/05 00:00:00 & 2020/03/12 08:21:06\\\\\n\\end{tabular}\n",
            "text/plain": [
              "  EmployerName                                         EmployerId\n",
              "1 'PRIFYSGOL ABERYSTWYTH' AND 'ABERYSTWYTH UNIVERSITY' 19070     \n",
              "2 10 TRINITY SQUARE HOTEL LIMITED                      19455     \n",
              "3 1LIFE MANAGEMENT SOLUTIONS LIMITED                     687     \n",
              "4 1ST CHOICE STAFF RECRUITMENT LIMITED                 18136     \n",
              "5 1ST HOME CARE LTD.                                   17484     \n",
              "  Address                                                                           \n",
              "1 Aberystwyth University, Penglais, Ceredigion, SY23 3FL                            \n",
              "2 5 Market Yard Mews, 194-204 Bermondsey Street, London, United Kingdom, SE1 3TQ    \n",
              "3 Ldh House St Ives Business Park, Parsons Green, St. Ives, Cambridgeshire, PE27 4AA\n",
              "4 1ST CHOICE RECRUITMENT, 8 St. Loyes Street, Bedford, MK40 1EP                     \n",
              "5 Real Life Options, 35 East Port, Dunfermline, Fife, Scotland, KY12 7LG            \n",
              "  PostCode CompanyNumber SicCodes              DiffMeanHourlyPercent\n",
              "1 SY23 3FL RC000641                            11.5                 \n",
              "2 SE1 3TQ  08064685      82990                  8.7                 \n",
              "3 PE27 4AA 02566586      93110,\\n93130,\\n93290 11.0                 \n",
              "4 MK40 1EP 07972006      78109                 -2.3                 \n",
              "5 KY12 7LG SC272838      86900,\\n88100         -2.0                 \n",
              "  DiffMedianHourlyPercent DiffMeanBonusPercent DiffMedianBonusPercent ⋯\n",
              "1 10.3                        NA                   NA                 ⋯\n",
              "2 10.3                      29.6                 54.5                 ⋯\n",
              "3 -0.5                      81.5                 94.2                 ⋯\n",
              "4  0.0                    -114.8               -249.3                 ⋯\n",
              "5  0.5                        NA                   NA                 ⋯\n",
              "  FemaleUpperMiddleQuartile MaleTopQuartile FemaleTopQuartile\n",
              "1 60.0                      62.0            38.0             \n",
              "2 21.1                      66.7            33.3             \n",
              "3 57.7                      44.2            55.8             \n",
              "4 37.1                      50.0            50.0             \n",
              "5 91.0                       9.0            91.0             \n",
              "  CompanyLinkToGPGInfo                                                                                                \n",
              "1 https://www.aber.ac.uk/en/equality/genderpaygapreporting2019/ \\n\\nhttps://www.aber.ac.uk/cy/equality/gender-pay-gap/\n",
              "2                                                                                                                     \n",
              "3 https://www.1life.co.uk/gender-pay-gap                                                                              \n",
              "4 https://www.1stchoice.net/gender-pay-gap-report-2019/                                                               \n",
              "5 https://reallifeoptions.org/                                                                                        \n",
              "  ResponsiblePerson                              EmployerSize\n",
              "1 Elizabeth Treasure (Vice-Chancellor)           1000 to 4999\n",
              "2 Linda Stigter (Director of People and Culture) 250 to 499  \n",
              "3 Mark Braithwaite (Managing Director)           250 to 499  \n",
              "4 Gill Knight (MD)                               250 to 499  \n",
              "5 Ian Hardcastle (Chief Operating Officer)       250 to 499  \n",
              "  CurrentName                                         \n",
              "1 'PRIFYSGOL ABERYSTWYTH' AND 'ABERYSTWYTH UNIVERSITY'\n",
              "2 10 TRINITY SQUARE HOTEL LIMITED                     \n",
              "3 1LIFE MANAGEMENT SOLUTIONS LIMITED                  \n",
              "4 1ST CHOICE STAFF RECRUITMENT LIMITED                \n",
              "5 1ST HOME CARE LTD.                                  \n",
              "  SubmittedAfterTheDeadline DueDate             DateSubmitted      \n",
              "1 False                     2020/04/05 00:00:00 2020/04/03 14:47:45\n",
              "2 False                     2020/04/05 00:00:00 2020/03/19 15:51:20\n",
              "3 False                     2020/04/05 00:00:00 2020/03/10 17:03:17\n",
              "4 False                     2020/04/05 00:00:00 2020/01/24 09:37:01\n",
              "5 False                     2020/04/05 00:00:00 2020/03/12 08:21:06"
            ]
          },
          "metadata": {}
        }
      ]
    },
    {
      "cell_type": "code",
      "source": [
        "colnames(paygap)"
      ],
      "metadata": {
        "id": "SSDg4w1Zu2Qh",
        "outputId": "53776645-0865-4abc-cda1-0666088e442a",
        "colab": {
          "base_uri": "https://localhost:8080/",
          "height": 69
        }
      },
      "execution_count": 41,
      "outputs": [
        {
          "output_type": "display_data",
          "data": {
            "text/html": [
              "<style>\n",
              ".list-inline {list-style: none; margin:0; padding: 0}\n",
              ".list-inline>li {display: inline-block}\n",
              ".list-inline>li:not(:last-child)::after {content: \"\\00b7\"; padding: 0 .5ex}\n",
              "</style>\n",
              "<ol class=list-inline><li>'EmployerName'</li><li>'EmployerId'</li><li>'Address'</li><li>'PostCode'</li><li>'CompanyNumber'</li><li>'SicCodes'</li><li>'DiffMeanHourlyPercent'</li><li>'DiffMedianHourlyPercent'</li><li>'DiffMeanBonusPercent'</li><li>'DiffMedianBonusPercent'</li><li>'MaleBonusPercent'</li><li>'FemaleBonusPercent'</li><li>'MaleLowerQuartile'</li><li>'FemaleLowerQuartile'</li><li>'MaleLowerMiddleQuartile'</li><li>'FemaleLowerMiddleQuartile'</li><li>'MaleUpperMiddleQuartile'</li><li>'FemaleUpperMiddleQuartile'</li><li>'MaleTopQuartile'</li><li>'FemaleTopQuartile'</li><li>'CompanyLinkToGPGInfo'</li><li>'ResponsiblePerson'</li><li>'EmployerSize'</li><li>'CurrentName'</li><li>'SubmittedAfterTheDeadline'</li><li>'DueDate'</li><li>'DateSubmitted'</li></ol>\n"
            ],
            "text/markdown": "1. 'EmployerName'\n2. 'EmployerId'\n3. 'Address'\n4. 'PostCode'\n5. 'CompanyNumber'\n6. 'SicCodes'\n7. 'DiffMeanHourlyPercent'\n8. 'DiffMedianHourlyPercent'\n9. 'DiffMeanBonusPercent'\n10. 'DiffMedianBonusPercent'\n11. 'MaleBonusPercent'\n12. 'FemaleBonusPercent'\n13. 'MaleLowerQuartile'\n14. 'FemaleLowerQuartile'\n15. 'MaleLowerMiddleQuartile'\n16. 'FemaleLowerMiddleQuartile'\n17. 'MaleUpperMiddleQuartile'\n18. 'FemaleUpperMiddleQuartile'\n19. 'MaleTopQuartile'\n20. 'FemaleTopQuartile'\n21. 'CompanyLinkToGPGInfo'\n22. 'ResponsiblePerson'\n23. 'EmployerSize'\n24. 'CurrentName'\n25. 'SubmittedAfterTheDeadline'\n26. 'DueDate'\n27. 'DateSubmitted'\n\n\n",
            "text/latex": "\\begin{enumerate*}\n\\item 'EmployerName'\n\\item 'EmployerId'\n\\item 'Address'\n\\item 'PostCode'\n\\item 'CompanyNumber'\n\\item 'SicCodes'\n\\item 'DiffMeanHourlyPercent'\n\\item 'DiffMedianHourlyPercent'\n\\item 'DiffMeanBonusPercent'\n\\item 'DiffMedianBonusPercent'\n\\item 'MaleBonusPercent'\n\\item 'FemaleBonusPercent'\n\\item 'MaleLowerQuartile'\n\\item 'FemaleLowerQuartile'\n\\item 'MaleLowerMiddleQuartile'\n\\item 'FemaleLowerMiddleQuartile'\n\\item 'MaleUpperMiddleQuartile'\n\\item 'FemaleUpperMiddleQuartile'\n\\item 'MaleTopQuartile'\n\\item 'FemaleTopQuartile'\n\\item 'CompanyLinkToGPGInfo'\n\\item 'ResponsiblePerson'\n\\item 'EmployerSize'\n\\item 'CurrentName'\n\\item 'SubmittedAfterTheDeadline'\n\\item 'DueDate'\n\\item 'DateSubmitted'\n\\end{enumerate*}\n",
            "text/plain": [
              " [1] \"EmployerName\"              \"EmployerId\"               \n",
              " [3] \"Address\"                   \"PostCode\"                 \n",
              " [5] \"CompanyNumber\"             \"SicCodes\"                 \n",
              " [7] \"DiffMeanHourlyPercent\"     \"DiffMedianHourlyPercent\"  \n",
              " [9] \"DiffMeanBonusPercent\"      \"DiffMedianBonusPercent\"   \n",
              "[11] \"MaleBonusPercent\"          \"FemaleBonusPercent\"       \n",
              "[13] \"MaleLowerQuartile\"         \"FemaleLowerQuartile\"      \n",
              "[15] \"MaleLowerMiddleQuartile\"   \"FemaleLowerMiddleQuartile\"\n",
              "[17] \"MaleUpperMiddleQuartile\"   \"FemaleUpperMiddleQuartile\"\n",
              "[19] \"MaleTopQuartile\"           \"FemaleTopQuartile\"        \n",
              "[21] \"CompanyLinkToGPGInfo\"      \"ResponsiblePerson\"        \n",
              "[23] \"EmployerSize\"              \"CurrentName\"              \n",
              "[25] \"SubmittedAfterTheDeadline\" \"DueDate\"                  \n",
              "[27] \"DateSubmitted\"            "
            ]
          },
          "metadata": {}
        }
      ]
    },
    {
      "cell_type": "code",
      "source": [
        "dim(paygap)"
      ],
      "metadata": {
        "id": "gyX0HHcCu4U9",
        "outputId": "b2fcb189-4579-4f01-86d4-6342f5d39195",
        "colab": {
          "base_uri": "https://localhost:8080/",
          "height": 34
        }
      },
      "execution_count": 42,
      "outputs": [
        {
          "output_type": "display_data",
          "data": {
            "text/html": [
              "<style>\n",
              ".list-inline {list-style: none; margin:0; padding: 0}\n",
              ".list-inline>li {display: inline-block}\n",
              ".list-inline>li:not(:last-child)::after {content: \"\\00b7\"; padding: 0 .5ex}\n",
              "</style>\n",
              "<ol class=list-inline><li>6921</li><li>27</li></ol>\n"
            ],
            "text/markdown": "1. 6921\n2. 27\n\n\n",
            "text/latex": "\\begin{enumerate*}\n\\item 6921\n\\item 27\n\\end{enumerate*}\n",
            "text/plain": [
              "[1] 6921   27"
            ]
          },
          "metadata": {}
        }
      ]
    },
    {
      "cell_type": "code",
      "source": [
        "class(paygap)"
      ],
      "metadata": {
        "id": "8vHbjldku9l0",
        "outputId": "d39053a3-31c1-4482-a8aa-9405140c53bc",
        "colab": {
          "base_uri": "https://localhost:8080/",
          "height": 34
        }
      },
      "execution_count": 43,
      "outputs": [
        {
          "output_type": "display_data",
          "data": {
            "text/html": [
              "'data.frame'"
            ],
            "text/markdown": "'data.frame'",
            "text/latex": "'data.frame'",
            "text/plain": [
              "[1] \"data.frame\""
            ]
          },
          "metadata": {}
        }
      ]
    },
    {
      "cell_type": "code",
      "source": [
        "class(paygap$DiffMeanHourlyPercent)"
      ],
      "metadata": {
        "id": "915QcyLmu_xS",
        "outputId": "f69feaaa-7c68-4e68-d0d3-6af62afe17e4",
        "colab": {
          "base_uri": "https://localhost:8080/",
          "height": 34
        }
      },
      "execution_count": 44,
      "outputs": [
        {
          "output_type": "display_data",
          "data": {
            "text/html": [
              "'numeric'"
            ],
            "text/markdown": "'numeric'",
            "text/latex": "'numeric'",
            "text/plain": [
              "[1] \"numeric\""
            ]
          },
          "metadata": {}
        }
      ]
    },
    {
      "cell_type": "code",
      "source": [
        "bodytemp <- c(96.3,96.7,96.9,97,97.1,97.1,97.1,97.2,97.3,97.4,97.4,97.4,97.4,97.5,97.5,97.6,97.6,97.6,97.7,97.8,97.8,97.8,97.8,97.9,97.9,98,98,98,98,98,98,98.1,98.1,98.2,98.2,98.2,98.2,98.3,98.3,98.4,98.4,98.4,98.4,98.5,98.5,98.6,98.6,98.6,98.6,98.6,98.6,98.7,98.7,98.8,98.8,98.8,98.9,99,99,99,99.1,99.2,99.3,99.4,99.5,96.4,96.7,96.8,97.2,97.2,97.4,97.6,97.7,97.7,97.8,97.8,97.8,97.9,97.9,97.9,98,98,98,98,98,98.1,98.2,98.2,98.2,98.2,98.2,98.2,98.3,98.3,98.3,98.4,98.4,98.4,98.4,98.4,98.5,98.6,98.6,98.6,98.6,98.7,98.7,98.7,98.7,98.7,98.7,98.8,98.8,98.8,98.8,98.8,98.8,98.8,98.9,99,99,99.1,99.1,99.2,99.2,99.3,99.4,99.9,100,100.8)\n",
        "gender <- c(1,1,1,1,1,1,1,1,1,1,1,1,1,1,1,1,1,1,1,1,1,1,1,1,1,1,1,1,1,1,1,1,1,1,1,1,1,1,1,1,1,1,1,1,1,1,1,1,1,1,1,1,1,1,1,1,1,1,1,1,1,1,1,1,1,2,2,2,2,2,2,2,2,2,2,2,2,2,2,2,2,2,2,2,2,2,2,2,2,2,2,2,2,2,2,2,2,2,2,2,2,2,2,2,2,2,2,2,2,2,2,2,2,2,2,2,2,2,2,2,2,2,2,2,2,2,2,2,2,2)\n",
        "heartrate <- c(70,71,74,80,73,75,82,64,69,70,68,72,78,70,75,74,69,73,77,58,73,65,74,76,72,78,71,74,67,64,78,73,67,66,64,71,72,86,72,68,70,82,84,68,71,77,78,83,66,70,82,73,78,78,81,78,80,75,79,81,71,83,63,70,75,69,62,75,66,68,57,61,84,61,77,62,71,68,69,79,76,87,78,73,89,81,73,64,65,73,69,57,79,78,80,79,81,73,74,84,83,82,85,86,77,72,79,59,64,65,82,64,70,83,89,69,73,84,76,79,81,80,74,77,66,68,77,79,78,77)\n",
        "\n",
        "cardiacdata <- data.frame(bodytemp = bodytemp,\n",
        "                  gender = gender,\n",
        "                  heartrate = heartrate)"
      ],
      "metadata": {
        "id": "Tz8rkFervCzo"
      },
      "execution_count": 45,
      "outputs": []
    },
    {
      "cell_type": "code",
      "source": [
        "head(cardiacdata, n = 5)"
      ],
      "metadata": {
        "id": "67hlmR2wvFD1",
        "outputId": "6f22a31e-0360-4973-d265-ada7d7ceb842",
        "colab": {
          "base_uri": "https://localhost:8080/",
          "height": 254
        }
      },
      "execution_count": 46,
      "outputs": [
        {
          "output_type": "display_data",
          "data": {
            "text/html": [
              "<table class=\"dataframe\">\n",
              "<caption>A data.frame: 5 × 3</caption>\n",
              "<thead>\n",
              "\t<tr><th></th><th scope=col>bodytemp</th><th scope=col>gender</th><th scope=col>heartrate</th></tr>\n",
              "\t<tr><th></th><th scope=col>&lt;dbl&gt;</th><th scope=col>&lt;dbl&gt;</th><th scope=col>&lt;dbl&gt;</th></tr>\n",
              "</thead>\n",
              "<tbody>\n",
              "\t<tr><th scope=row>1</th><td>96.3</td><td>1</td><td>70</td></tr>\n",
              "\t<tr><th scope=row>2</th><td>96.7</td><td>1</td><td>71</td></tr>\n",
              "\t<tr><th scope=row>3</th><td>96.9</td><td>1</td><td>74</td></tr>\n",
              "\t<tr><th scope=row>4</th><td>97.0</td><td>1</td><td>80</td></tr>\n",
              "\t<tr><th scope=row>5</th><td>97.1</td><td>1</td><td>73</td></tr>\n",
              "</tbody>\n",
              "</table>\n"
            ],
            "text/markdown": "\nA data.frame: 5 × 3\n\n| <!--/--> | bodytemp &lt;dbl&gt; | gender &lt;dbl&gt; | heartrate &lt;dbl&gt; |\n|---|---|---|---|\n| 1 | 96.3 | 1 | 70 |\n| 2 | 96.7 | 1 | 71 |\n| 3 | 96.9 | 1 | 74 |\n| 4 | 97.0 | 1 | 80 |\n| 5 | 97.1 | 1 | 73 |\n\n",
            "text/latex": "A data.frame: 5 × 3\n\\begin{tabular}{r|lll}\n  & bodytemp & gender & heartrate\\\\\n  & <dbl> & <dbl> & <dbl>\\\\\n\\hline\n\t1 & 96.3 & 1 & 70\\\\\n\t2 & 96.7 & 1 & 71\\\\\n\t3 & 96.9 & 1 & 74\\\\\n\t4 & 97.0 & 1 & 80\\\\\n\t5 & 97.1 & 1 & 73\\\\\n\\end{tabular}\n",
            "text/plain": [
              "  bodytemp gender heartrate\n",
              "1 96.3     1      70       \n",
              "2 96.7     1      71       \n",
              "3 96.9     1      74       \n",
              "4 97.0     1      80       \n",
              "5 97.1     1      73       "
            ]
          },
          "metadata": {}
        }
      ]
    },
    {
      "cell_type": "code",
      "source": [
        "colnames(cardiacdata)"
      ],
      "metadata": {
        "id": "uUuozS-tvHUy",
        "outputId": "b50d0034-668f-4ec5-97b2-4918ceedb5b5",
        "colab": {
          "base_uri": "https://localhost:8080/",
          "height": 34
        }
      },
      "execution_count": 47,
      "outputs": [
        {
          "output_type": "display_data",
          "data": {
            "text/html": [
              "<style>\n",
              ".list-inline {list-style: none; margin:0; padding: 0}\n",
              ".list-inline>li {display: inline-block}\n",
              ".list-inline>li:not(:last-child)::after {content: \"\\00b7\"; padding: 0 .5ex}\n",
              "</style>\n",
              "<ol class=list-inline><li>'bodytemp'</li><li>'gender'</li><li>'heartrate'</li></ol>\n"
            ],
            "text/markdown": "1. 'bodytemp'\n2. 'gender'\n3. 'heartrate'\n\n\n",
            "text/latex": "\\begin{enumerate*}\n\\item 'bodytemp'\n\\item 'gender'\n\\item 'heartrate'\n\\end{enumerate*}\n",
            "text/plain": [
              "[1] \"bodytemp\"  \"gender\"    \"heartrate\""
            ]
          },
          "metadata": {}
        }
      ]
    },
    {
      "cell_type": "code",
      "source": [
        "dim(cardiacdata)"
      ],
      "metadata": {
        "id": "qz0NEZlYvJJn",
        "outputId": "c976bc4d-dd50-4bce-be96-e6ee1c07e0c6",
        "colab": {
          "base_uri": "https://localhost:8080/",
          "height": 34
        }
      },
      "execution_count": 48,
      "outputs": [
        {
          "output_type": "display_data",
          "data": {
            "text/html": [
              "<style>\n",
              ".list-inline {list-style: none; margin:0; padding: 0}\n",
              ".list-inline>li {display: inline-block}\n",
              ".list-inline>li:not(:last-child)::after {content: \"\\00b7\"; padding: 0 .5ex}\n",
              "</style>\n",
              "<ol class=list-inline><li>130</li><li>3</li></ol>\n"
            ],
            "text/markdown": "1. 130\n2. 3\n\n\n",
            "text/latex": "\\begin{enumerate*}\n\\item 130\n\\item 3\n\\end{enumerate*}\n",
            "text/plain": [
              "[1] 130   3"
            ]
          },
          "metadata": {}
        }
      ]
    },
    {
      "cell_type": "code",
      "source": [
        "class(cardiacdata)"
      ],
      "metadata": {
        "id": "BEBNIANRvLG6",
        "outputId": "6a703b2f-7491-47e3-dc43-8c004e79f097",
        "colab": {
          "base_uri": "https://localhost:8080/",
          "height": 34
        }
      },
      "execution_count": 49,
      "outputs": [
        {
          "output_type": "display_data",
          "data": {
            "text/html": [
              "'data.frame'"
            ],
            "text/markdown": "'data.frame'",
            "text/latex": "'data.frame'",
            "text/plain": [
              "[1] \"data.frame\""
            ]
          },
          "metadata": {}
        }
      ]
    },
    {
      "cell_type": "code",
      "source": [
        "class(cardiacdata$bodytemp)"
      ],
      "metadata": {
        "id": "CU4v1wO4vMw3",
        "outputId": "5054e9a9-f4bf-4584-d834-fb591cda2509",
        "colab": {
          "base_uri": "https://localhost:8080/",
          "height": 34
        }
      },
      "execution_count": 50,
      "outputs": [
        {
          "output_type": "display_data",
          "data": {
            "text/html": [
              "'numeric'"
            ],
            "text/markdown": "'numeric'",
            "text/latex": "'numeric'",
            "text/plain": [
              "[1] \"numeric\""
            ]
          },
          "metadata": {}
        }
      ]
    },
    {
      "cell_type": "code",
      "source": [
        "class(cardiacdata$heartrate)"
      ],
      "metadata": {
        "id": "VpPSYTybvOKw",
        "outputId": "7ce72a1b-fdc1-4c0b-9929-202978d36659",
        "colab": {
          "base_uri": "https://localhost:8080/",
          "height": 34
        }
      },
      "execution_count": 51,
      "outputs": [
        {
          "output_type": "display_data",
          "data": {
            "text/html": [
              "'numeric'"
            ],
            "text/markdown": "'numeric'",
            "text/latex": "'numeric'",
            "text/plain": [
              "[1] \"numeric\""
            ]
          },
          "metadata": {}
        }
      ]
    },
    {
      "cell_type": "code",
      "source": [
        "# extract element in 1st row and 3th column\n",
        "cardiacdata[1,3]"
      ],
      "metadata": {
        "id": "xvRXjFzsvPb2",
        "outputId": "f2a7b60e-fcc4-4d86-8da4-21c64509a9ab",
        "colab": {
          "base_uri": "https://localhost:8080/",
          "height": 34
        }
      },
      "execution_count": 52,
      "outputs": [
        {
          "output_type": "display_data",
          "data": {
            "text/html": [
              "70"
            ],
            "text/markdown": "70",
            "text/latex": "70",
            "text/plain": [
              "[1] 70"
            ]
          },
          "metadata": {}
        }
      ]
    },
    {
      "cell_type": "code",
      "source": [
        "# extract rows 5-7 from columns 1-3\n",
        "cardiacdata[5:7,1:3]"
      ],
      "metadata": {
        "id": "gDd-q_flvQwO",
        "outputId": "6bd4173d-383a-4208-efe5-7c28fcead874",
        "colab": {
          "base_uri": "https://localhost:8080/",
          "height": 192
        }
      },
      "execution_count": 53,
      "outputs": [
        {
          "output_type": "display_data",
          "data": {
            "text/html": [
              "<table class=\"dataframe\">\n",
              "<caption>A data.frame: 3 × 3</caption>\n",
              "<thead>\n",
              "\t<tr><th></th><th scope=col>bodytemp</th><th scope=col>gender</th><th scope=col>heartrate</th></tr>\n",
              "\t<tr><th></th><th scope=col>&lt;dbl&gt;</th><th scope=col>&lt;dbl&gt;</th><th scope=col>&lt;dbl&gt;</th></tr>\n",
              "</thead>\n",
              "<tbody>\n",
              "\t<tr><th scope=row>5</th><td>97.1</td><td>1</td><td>73</td></tr>\n",
              "\t<tr><th scope=row>6</th><td>97.1</td><td>1</td><td>75</td></tr>\n",
              "\t<tr><th scope=row>7</th><td>97.1</td><td>1</td><td>82</td></tr>\n",
              "</tbody>\n",
              "</table>\n"
            ],
            "text/markdown": "\nA data.frame: 3 × 3\n\n| <!--/--> | bodytemp &lt;dbl&gt; | gender &lt;dbl&gt; | heartrate &lt;dbl&gt; |\n|---|---|---|---|\n| 5 | 97.1 | 1 | 73 |\n| 6 | 97.1 | 1 | 75 |\n| 7 | 97.1 | 1 | 82 |\n\n",
            "text/latex": "A data.frame: 3 × 3\n\\begin{tabular}{r|lll}\n  & bodytemp & gender & heartrate\\\\\n  & <dbl> & <dbl> & <dbl>\\\\\n\\hline\n\t5 & 97.1 & 1 & 73\\\\\n\t6 & 97.1 & 1 & 75\\\\\n\t7 & 97.1 & 1 & 82\\\\\n\\end{tabular}\n",
            "text/plain": [
              "  bodytemp gender heartrate\n",
              "5 97.1     1      73       \n",
              "6 97.1     1      75       \n",
              "7 97.1     1      82       "
            ]
          },
          "metadata": {}
        }
      ]
    },
    {
      "cell_type": "code",
      "source": [
        "# extract column 'bodytemp' and assign to new object 'temperatures'\n",
        "temperatures <- cardiacdata$bodytemp"
      ],
      "metadata": {
        "id": "mIztBPu0vSG-"
      },
      "execution_count": 54,
      "outputs": []
    },
    {
      "cell_type": "code",
      "source": [
        "# select columns 'gender' and 'heartrate' and assign to new object 'heartrates'\n",
        "heartrates <- select(cardiacdata, gender, heartrate)"
      ],
      "metadata": {
        "id": "RU6QqqDGvUiv"
      },
      "execution_count": 55,
      "outputs": []
    },
    {
      "cell_type": "code",
      "source": [],
      "metadata": {
        "id": "nGdvNOXhvWIu"
      },
      "execution_count": 56,
      "outputs": []
    },
    {
      "cell_type": "code",
      "source": [
        "## append variable names with their respective units\n",
        "# rename 'bodytemp' to 'bodytemp_degF'\n",
        "cardiacdata <- rename(cardiacdata, bodytemp_degF = bodytemp)\n",
        "\n",
        "# rename 'heartrate' to 'heartrate_bpm'\n",
        "cardiacdata <- rename(cardiacdata, heartrate_bpm = heartrate)"
      ],
      "metadata": {
        "id": "e5fOq6mhvWRW"
      },
      "execution_count": 57,
      "outputs": []
    },
    {
      "cell_type": "code",
      "source": [
        "head(cardiacdata)"
      ],
      "metadata": {
        "id": "-gGcaT5EvX46",
        "outputId": "10aca28e-025f-43df-c008-86bf8360d49a",
        "colab": {
          "base_uri": "https://localhost:8080/",
          "height": 286
        }
      },
      "execution_count": 58,
      "outputs": [
        {
          "output_type": "display_data",
          "data": {
            "text/html": [
              "<table class=\"dataframe\">\n",
              "<caption>A data.frame: 6 × 3</caption>\n",
              "<thead>\n",
              "\t<tr><th></th><th scope=col>bodytemp_degF</th><th scope=col>gender</th><th scope=col>heartrate_bpm</th></tr>\n",
              "\t<tr><th></th><th scope=col>&lt;dbl&gt;</th><th scope=col>&lt;dbl&gt;</th><th scope=col>&lt;dbl&gt;</th></tr>\n",
              "</thead>\n",
              "<tbody>\n",
              "\t<tr><th scope=row>1</th><td>96.3</td><td>1</td><td>70</td></tr>\n",
              "\t<tr><th scope=row>2</th><td>96.7</td><td>1</td><td>71</td></tr>\n",
              "\t<tr><th scope=row>3</th><td>96.9</td><td>1</td><td>74</td></tr>\n",
              "\t<tr><th scope=row>4</th><td>97.0</td><td>1</td><td>80</td></tr>\n",
              "\t<tr><th scope=row>5</th><td>97.1</td><td>1</td><td>73</td></tr>\n",
              "\t<tr><th scope=row>6</th><td>97.1</td><td>1</td><td>75</td></tr>\n",
              "</tbody>\n",
              "</table>\n"
            ],
            "text/markdown": "\nA data.frame: 6 × 3\n\n| <!--/--> | bodytemp_degF &lt;dbl&gt; | gender &lt;dbl&gt; | heartrate_bpm &lt;dbl&gt; |\n|---|---|---|---|\n| 1 | 96.3 | 1 | 70 |\n| 2 | 96.7 | 1 | 71 |\n| 3 | 96.9 | 1 | 74 |\n| 4 | 97.0 | 1 | 80 |\n| 5 | 97.1 | 1 | 73 |\n| 6 | 97.1 | 1 | 75 |\n\n",
            "text/latex": "A data.frame: 6 × 3\n\\begin{tabular}{r|lll}\n  & bodytemp\\_degF & gender & heartrate\\_bpm\\\\\n  & <dbl> & <dbl> & <dbl>\\\\\n\\hline\n\t1 & 96.3 & 1 & 70\\\\\n\t2 & 96.7 & 1 & 71\\\\\n\t3 & 96.9 & 1 & 74\\\\\n\t4 & 97.0 & 1 & 80\\\\\n\t5 & 97.1 & 1 & 73\\\\\n\t6 & 97.1 & 1 & 75\\\\\n\\end{tabular}\n",
            "text/plain": [
              "  bodytemp_degF gender heartrate_bpm\n",
              "1 96.3          1      70           \n",
              "2 96.7          1      71           \n",
              "3 96.9          1      74           \n",
              "4 97.0          1      80           \n",
              "5 97.1          1      73           \n",
              "6 97.1          1      75           "
            ]
          },
          "metadata": {}
        }
      ]
    },
    {
      "cell_type": "code",
      "source": [
        "# add new column with body temperature in degrees celsius\n",
        "cardiacdata <- mutate(cardiacdata, bodytemp_degC = (bodytemp_degF - 32)*(5/9))"
      ],
      "metadata": {
        "id": "PLotxbi-vZRZ"
      },
      "execution_count": 59,
      "outputs": []
    },
    {
      "cell_type": "code",
      "source": [
        "# change values in gender column to read \"Female\" and \"Male\" instead of 1 and 2\n",
        "cardiacdata <- mutate(cardiacdata, gender = ifelse(gender == 1, 'Female', \n",
        "                                            ifelse(gender == 2, 'Male', NA)))"
      ],
      "metadata": {
        "id": "PphqdNRtvbEh"
      },
      "execution_count": 60,
      "outputs": []
    },
    {
      "cell_type": "code",
      "source": [
        "head(cardiacdata)\n"
      ],
      "metadata": {
        "id": "O2Gegnn4vci7",
        "outputId": "ba7d7916-fc30-4264-e74b-08e7b6128d25",
        "colab": {
          "base_uri": "https://localhost:8080/",
          "height": 286
        }
      },
      "execution_count": 61,
      "outputs": [
        {
          "output_type": "display_data",
          "data": {
            "text/html": [
              "<table class=\"dataframe\">\n",
              "<caption>A data.frame: 6 × 4</caption>\n",
              "<thead>\n",
              "\t<tr><th></th><th scope=col>bodytemp_degF</th><th scope=col>gender</th><th scope=col>heartrate_bpm</th><th scope=col>bodytemp_degC</th></tr>\n",
              "\t<tr><th></th><th scope=col>&lt;dbl&gt;</th><th scope=col>&lt;chr&gt;</th><th scope=col>&lt;dbl&gt;</th><th scope=col>&lt;dbl&gt;</th></tr>\n",
              "</thead>\n",
              "<tbody>\n",
              "\t<tr><th scope=row>1</th><td>96.3</td><td>Female</td><td>70</td><td>35.72222</td></tr>\n",
              "\t<tr><th scope=row>2</th><td>96.7</td><td>Female</td><td>71</td><td>35.94444</td></tr>\n",
              "\t<tr><th scope=row>3</th><td>96.9</td><td>Female</td><td>74</td><td>36.05556</td></tr>\n",
              "\t<tr><th scope=row>4</th><td>97.0</td><td>Female</td><td>80</td><td>36.11111</td></tr>\n",
              "\t<tr><th scope=row>5</th><td>97.1</td><td>Female</td><td>73</td><td>36.16667</td></tr>\n",
              "\t<tr><th scope=row>6</th><td>97.1</td><td>Female</td><td>75</td><td>36.16667</td></tr>\n",
              "</tbody>\n",
              "</table>\n"
            ],
            "text/markdown": "\nA data.frame: 6 × 4\n\n| <!--/--> | bodytemp_degF &lt;dbl&gt; | gender &lt;chr&gt; | heartrate_bpm &lt;dbl&gt; | bodytemp_degC &lt;dbl&gt; |\n|---|---|---|---|---|\n| 1 | 96.3 | Female | 70 | 35.72222 |\n| 2 | 96.7 | Female | 71 | 35.94444 |\n| 3 | 96.9 | Female | 74 | 36.05556 |\n| 4 | 97.0 | Female | 80 | 36.11111 |\n| 5 | 97.1 | Female | 73 | 36.16667 |\n| 6 | 97.1 | Female | 75 | 36.16667 |\n\n",
            "text/latex": "A data.frame: 6 × 4\n\\begin{tabular}{r|llll}\n  & bodytemp\\_degF & gender & heartrate\\_bpm & bodytemp\\_degC\\\\\n  & <dbl> & <chr> & <dbl> & <dbl>\\\\\n\\hline\n\t1 & 96.3 & Female & 70 & 35.72222\\\\\n\t2 & 96.7 & Female & 71 & 35.94444\\\\\n\t3 & 96.9 & Female & 74 & 36.05556\\\\\n\t4 & 97.0 & Female & 80 & 36.11111\\\\\n\t5 & 97.1 & Female & 73 & 36.16667\\\\\n\t6 & 97.1 & Female & 75 & 36.16667\\\\\n\\end{tabular}\n",
            "text/plain": [
              "  bodytemp_degF gender heartrate_bpm bodytemp_degC\n",
              "1 96.3          Female 70            35.72222     \n",
              "2 96.7          Female 71            35.94444     \n",
              "3 96.9          Female 74            36.05556     \n",
              "4 97.0          Female 80            36.11111     \n",
              "5 97.1          Female 73            36.16667     \n",
              "6 97.1          Female 75            36.16667     "
            ]
          },
          "metadata": {}
        }
      ]
    },
    {
      "cell_type": "code",
      "source": [
        "# filter for data from female subjects only\n",
        "cardiacdata_female <- filter(cardiacdata, gender == 'Female')"
      ],
      "metadata": {
        "id": "Fj13dx-WvfAS"
      },
      "execution_count": 62,
      "outputs": []
    },
    {
      "cell_type": "code",
      "source": [
        "cardiacdata <- cardiacdata %>%\n",
        "  filter(gender == 'Female') %>%\n",
        "  select(-gender) %>%\n",
        "  mutate(bodytemp_Kelvin = bodytemp_degC + 273)"
      ],
      "metadata": {
        "id": "79GtJTB-vgc0"
      },
      "execution_count": 63,
      "outputs": []
    },
    {
      "cell_type": "code",
      "source": [
        "head(cardiacdata)"
      ],
      "metadata": {
        "id": "W97WGxnWviha",
        "outputId": "90520ba4-fd19-4914-860c-31a7abbd2e07",
        "colab": {
          "base_uri": "https://localhost:8080/",
          "height": 286
        }
      },
      "execution_count": 64,
      "outputs": [
        {
          "output_type": "display_data",
          "data": {
            "text/html": [
              "<table class=\"dataframe\">\n",
              "<caption>A data.frame: 6 × 4</caption>\n",
              "<thead>\n",
              "\t<tr><th></th><th scope=col>bodytemp_degF</th><th scope=col>heartrate_bpm</th><th scope=col>bodytemp_degC</th><th scope=col>bodytemp_Kelvin</th></tr>\n",
              "\t<tr><th></th><th scope=col>&lt;dbl&gt;</th><th scope=col>&lt;dbl&gt;</th><th scope=col>&lt;dbl&gt;</th><th scope=col>&lt;dbl&gt;</th></tr>\n",
              "</thead>\n",
              "<tbody>\n",
              "\t<tr><th scope=row>1</th><td>96.3</td><td>70</td><td>35.72222</td><td>308.7222</td></tr>\n",
              "\t<tr><th scope=row>2</th><td>96.7</td><td>71</td><td>35.94444</td><td>308.9444</td></tr>\n",
              "\t<tr><th scope=row>3</th><td>96.9</td><td>74</td><td>36.05556</td><td>309.0556</td></tr>\n",
              "\t<tr><th scope=row>4</th><td>97.0</td><td>80</td><td>36.11111</td><td>309.1111</td></tr>\n",
              "\t<tr><th scope=row>5</th><td>97.1</td><td>73</td><td>36.16667</td><td>309.1667</td></tr>\n",
              "\t<tr><th scope=row>6</th><td>97.1</td><td>75</td><td>36.16667</td><td>309.1667</td></tr>\n",
              "</tbody>\n",
              "</table>\n"
            ],
            "text/markdown": "\nA data.frame: 6 × 4\n\n| <!--/--> | bodytemp_degF &lt;dbl&gt; | heartrate_bpm &lt;dbl&gt; | bodytemp_degC &lt;dbl&gt; | bodytemp_Kelvin &lt;dbl&gt; |\n|---|---|---|---|---|\n| 1 | 96.3 | 70 | 35.72222 | 308.7222 |\n| 2 | 96.7 | 71 | 35.94444 | 308.9444 |\n| 3 | 96.9 | 74 | 36.05556 | 309.0556 |\n| 4 | 97.0 | 80 | 36.11111 | 309.1111 |\n| 5 | 97.1 | 73 | 36.16667 | 309.1667 |\n| 6 | 97.1 | 75 | 36.16667 | 309.1667 |\n\n",
            "text/latex": "A data.frame: 6 × 4\n\\begin{tabular}{r|llll}\n  & bodytemp\\_degF & heartrate\\_bpm & bodytemp\\_degC & bodytemp\\_Kelvin\\\\\n  & <dbl> & <dbl> & <dbl> & <dbl>\\\\\n\\hline\n\t1 & 96.3 & 70 & 35.72222 & 308.7222\\\\\n\t2 & 96.7 & 71 & 35.94444 & 308.9444\\\\\n\t3 & 96.9 & 74 & 36.05556 & 309.0556\\\\\n\t4 & 97.0 & 80 & 36.11111 & 309.1111\\\\\n\t5 & 97.1 & 73 & 36.16667 & 309.1667\\\\\n\t6 & 97.1 & 75 & 36.16667 & 309.1667\\\\\n\\end{tabular}\n",
            "text/plain": [
              "  bodytemp_degF heartrate_bpm bodytemp_degC bodytemp_Kelvin\n",
              "1 96.3          70            35.72222      308.7222       \n",
              "2 96.7          71            35.94444      308.9444       \n",
              "3 96.9          74            36.05556      309.0556       \n",
              "4 97.0          80            36.11111      309.1111       \n",
              "5 97.1          73            36.16667      309.1667       \n",
              "6 97.1          75            36.16667      309.1667       "
            ]
          },
          "metadata": {}
        }
      ]
    },
    {
      "cell_type": "code",
      "source": [
        "bodytemp <- c(96.3,96.7,96.9,97,97.1,97.1,97.1,97.2,97.3,97.4,97.4,97.4,97.4,97.5,97.5,97.6,97.6,97.6,97.7,97.8,97.8,97.8,97.8,97.9,97.9,98,98,98,98,98,98,98.1,98.1,98.2,98.2,98.2,98.2,98.3,98.3,98.4,98.4,98.4,98.4,98.5,98.5,98.6,98.6,98.6,98.6,98.6,98.6,98.7,98.7,98.8,98.8,98.8,98.9,99,99,99,99.1,99.2,99.3,99.4,99.5,96.4,96.7,96.8,97.2,97.2,97.4,97.6,97.7,97.7,97.8,97.8,97.8,97.9,97.9,97.9,98,98,98,98,98,98.1,98.2,98.2,98.2,98.2,98.2,98.2,98.3,98.3,98.3,98.4,98.4,98.4,98.4,98.4,98.5,98.6,98.6,98.6,98.6,98.7,98.7,98.7,98.7,98.7,98.7,98.8,98.8,98.8,98.8,98.8,98.8,98.8,98.9,99,99,99.1,99.1,99.2,99.2,99.3,99.4,99.9,100,100.8)\n",
        "gender <- c(1,1,1,1,1,1,1,1,1,1,1,1,1,1,1,1,1,1,1,1,1,1,1,1,1,1,1,1,1,1,1,1,1,1,1,1,1,1,1,1,1,1,1,1,1,1,1,1,1,1,1,1,1,1,1,1,1,1,1,1,1,1,1,1,1,2,2,2,2,2,2,2,2,2,2,2,2,2,2,2,2,2,2,2,2,2,2,2,2,2,2,2,2,2,2,2,2,2,2,2,2,2,2,2,2,2,2,2,2,2,2,2,2,2,2,2,2,2,2,2,2,2,2,2,2,2,2,2,2,2)\n",
        "heartrate <- c(70,71,74,80,73,75,82,64,69,70,68,72,78,70,75,74,69,73,77,58,73,65,74,76,72,78,71,74,67,64,78,73,67,66,64,71,72,86,72,68,70,82,84,68,71,77,78,83,66,70,82,73,78,78,81,78,80,75,79,81,71,83,63,70,75,69,62,75,66,68,57,61,84,61,77,62,71,68,69,79,76,87,78,73,89,81,73,64,65,73,69,57,79,78,80,79,81,73,74,84,83,82,85,86,77,72,79,59,64,65,82,64,70,83,89,69,73,84,76,79,81,80,74,77,66,68,77,79,78,77)\n",
        "\n",
        "cardiacdata <- data.frame(bodytemp = bodytemp,\n",
        "                  gender = gender,\n",
        "                  heartrate = heartrate)"
      ],
      "metadata": {
        "id": "Cu1jbCIGvj3s"
      },
      "execution_count": 65,
      "outputs": []
    },
    {
      "cell_type": "code",
      "source": [
        "# extract column 'bodytemp' and assign to new object 'temperatures'\n",
        "temperatures <- cardiacdata$bodytemp\n",
        "# select columns 'gender' and 'heartrate' and assign to new object 'heartrates'\n",
        "heartrates <- select(cardiacdata, gender, heartrate)\n",
        "## append variable names with their respective units\n",
        "# rename 'bodytemp' to 'bodytemp_degF'\n",
        "cardiacdata <- rename(cardiacdata, bodytemp_degF = bodytemp)\n",
        "# rename 'heartrate' to 'heartrate_bpm'\n",
        "cardiacdata <- rename(cardiacdata, heartrate_bpm = heartrate)\n",
        "# add new column with body temperature in degrees celsius\n",
        "cardiacdata <- mutate(cardiacdata, bodytemp_degC = (bodytemp_degF - 32)*(5/9))\n",
        "# change values in gender column to read \"Female\" and \"Male\" instead of 1 and 2\n",
        "cardiacdata <- mutate(cardiacdata, gender = ifelse(gender == 1, 'Female', \n",
        "                                            ifelse(gender == 2, 'Male', NA)))"
      ],
      "metadata": {
        "id": "MiTq1AG8vl-Y"
      },
      "execution_count": 66,
      "outputs": []
    },
    {
      "cell_type": "code",
      "source": [
        "cardiacdata_byGender <- cardiacdata %>%\n",
        "  group_by(gender) %>%\n",
        "  summarize(avg_bodytemp_degF = mean(bodytemp_degF),\n",
        "            avg_bodytemp_degC = mean(bodytemp_degC), \n",
        "            avg_heartrate_bpm = mean(heartrate_bpm))\n",
        "In [99]:\n"
      ],
      "metadata": {
        "id": "74ggH-9EvoMg",
        "outputId": "b5bbece3-b506-4b28-aebd-6621193d59cb",
        "colab": {
          "base_uri": "https://localhost:8080/",
          "height": 149
        }
      },
      "execution_count": 67,
      "outputs": [
        {
          "output_type": "error",
          "ename": "ERROR",
          "evalue": "ignored",
          "traceback": [
            "Error in parse(text = x, srcfile = src): <text>:8:0: unexpected end of input\n6: In [99]:\n7: \n  ^\nTraceback:\n"
          ]
        }
      ]
    },
    {
      "cell_type": "code",
      "source": [
        "some_numbers <- c(4,5,6,7,NA,8)"
      ],
      "metadata": {
        "id": "uSIsRbehvppl"
      },
      "execution_count": null,
      "outputs": []
    },
    {
      "cell_type": "code",
      "source": [
        "mean(some_numbers)"
      ],
      "metadata": {
        "id": "ZyjGXstvvq_P"
      },
      "execution_count": null,
      "outputs": []
    },
    {
      "cell_type": "code",
      "source": [
        "mean(some_numbers, na.rm = TRUE)"
      ],
      "metadata": {
        "id": "qoWi9MBuvsyy"
      },
      "execution_count": null,
      "outputs": []
    },
    {
      "cell_type": "code",
      "source": [
        "ggplot(data = cardiacdata, mapping = aes(x = bodytemp_degC)) + \n",
        "  geom_histogram(bins = 20)"
      ],
      "metadata": {
        "id": "vNH5bZccvuNi"
      },
      "execution_count": null,
      "outputs": []
    },
    {
      "cell_type": "code",
      "source": [
        "ggplot(data = cardiacdata, mapping = aes(x = bodytemp_degC)) + \n",
        "  geom_histogram(bins = 20, aes(y = ..density..))"
      ],
      "metadata": {
        "id": "bpthzYggvwDD"
      },
      "execution_count": null,
      "outputs": []
    },
    {
      "cell_type": "code",
      "source": [
        "ggplot(data = cardiacdata, mapping = aes(x = bodytemp_degC)) + \n",
        "  geom_histogram(bins = 20, aes(y = ..density..), fill = 'lightblue') +\n",
        "  xlab('body temperature (celsius)') +\n",
        "  ggtitle('distribution of body temperatures') +\n",
        "  theme_light()"
      ],
      "metadata": {
        "id": "z0RoiEQuvxi_"
      },
      "execution_count": null,
      "outputs": []
    },
    {
      "cell_type": "code",
      "source": [
        "ggplot(data = cardiacdata, mapping = aes(x = heartrate_bpm, y = bodytemp_degC)) + \n",
        "  geom_point() +\n",
        "  theme_light()"
      ],
      "metadata": {
        "id": "g3OyzAMdvzHv"
      },
      "execution_count": null,
      "outputs": []
    },
    {
      "cell_type": "code",
      "source": [
        "ggplot(data = cardiacdata, mapping = aes(x = heartrate_bpm, y = bodytemp_degC, color = gender)) + \n",
        "  geom_point() +\n",
        "  theme_light()"
      ],
      "metadata": {
        "id": "0Be4245kv013"
      },
      "execution_count": null,
      "outputs": []
    },
    {
      "cell_type": "code",
      "source": [
        "ggplot(data = cardiacdata, mapping = aes(x = gender, y = bodytemp_degC)) +\n",
        "  geom_boxplot() +\n",
        "  xlab('gender') +\n",
        "  ylab('body temperature (celsius)') +\n",
        "  theme_light()"
      ],
      "metadata": {
        "id": "WhI7yAUHv2WD"
      },
      "execution_count": null,
      "outputs": []
    },
    {
      "cell_type": "code",
      "source": [],
      "metadata": {
        "id": "zO2bk4yyv30a"
      },
      "execution_count": null,
      "outputs": []
    },
    {
      "cell_type": "markdown",
      "source": [
        "# New Section"
      ],
      "metadata": {
        "id": "fGWe_oT4qjdR"
      }
    }
  ]
}